{
 "cells": [
  {
   "cell_type": "code",
   "execution_count": 1,
   "id": "8639a002",
   "metadata": {},
   "outputs": [],
   "source": [
    "import pandas as pd\n",
    "import numpy as np"
   ]
  },
  {
   "cell_type": "markdown",
   "id": "64e07734",
   "metadata": {},
   "source": [
    "## 1. Données + Nettoyage"
   ]
  },
  {
   "cell_type": "code",
   "execution_count": 2,
   "id": "21d6ab70",
   "metadata": {},
   "outputs": [
    {
     "name": "stdout",
     "output_type": "stream",
     "text": [
      "<class 'pandas.core.frame.DataFrame'>\n",
      "RangeIndex: 449 entries, 0 to 448\n",
      "Data columns (total 6 columns):\n",
      " #   Column          Non-Null Count  Dtype         \n",
      "---  ------          --------------  -----         \n",
      " 0   Name            449 non-null    object        \n",
      " 1   Position        449 non-null    object        \n",
      " 2   Date            449 non-null    datetime64[ns]\n",
      " 3   Week            449 non-null    object        \n",
      " 4   RSI             447 non-null    float64       \n",
      " 5   Relative Power  238 non-null    float64       \n",
      "dtypes: datetime64[ns](1), float64(2), object(3)\n",
      "memory usage: 21.2+ KB\n"
     ]
    }
   ],
   "source": [
    "data = pd.read_excel('nmf_data.xlsx')\n",
    "data.info()"
   ]
  },
  {
   "cell_type": "code",
   "execution_count": 3,
   "id": "1fb21e6e",
   "metadata": {},
   "outputs": [
    {
     "data": {
      "text/plain": [
       "Name                0\n",
       "Position            0\n",
       "Date                0\n",
       "Week                0\n",
       "RSI                 2\n",
       "Relative Power    211\n",
       "dtype: int64"
      ]
     },
     "execution_count": 3,
     "metadata": {},
     "output_type": "execute_result"
    }
   ],
   "source": [
    "data['Name'] = data['Name'].replace({n: f'Athlete_{i}' for i, n in enumerate(data['Name'].unique())})\n",
    "data.isna().sum()"
   ]
  },
  {
   "cell_type": "code",
   "execution_count": 4,
   "id": "81e9f71b",
   "metadata": {},
   "outputs": [],
   "source": [
    "nmf_data = data[data['RSI'].notna()].reset_index(drop=True).copy()\n",
    "nmf_data = nmf_data.sort_values(by='Date', ignore_index=True)"
   ]
  },
  {
   "cell_type": "markdown",
   "id": "06c04291",
   "metadata": {},
   "source": [
    "## 2. Coefficient de Variation cumulatif"
   ]
  },
  {
   "cell_type": "code",
   "execution_count": 5,
   "id": "e9de8f36",
   "metadata": {},
   "outputs": [],
   "source": [
    "def expanding_mad(serie):\n",
    "    mad_values = []\n",
    "    for i in range(1, len(serie) + 1):\n",
    "        subset = serie[:i]\n",
    "        subset_median = np.nanmedian(subset)\n",
    "\n",
    "        if np.isnan(subset_median):\n",
    "            mad = 0\n",
    "        else:\n",
    "            deviations = np.absolute(subset - subset_median)\n",
    "            mad = np.nanmedian(deviations)\n",
    "        mad_values.append(mad)\n",
    "    \n",
    "    return mad_values"
   ]
  },
  {
   "cell_type": "code",
   "execution_count": 6,
   "id": "d5d58dd5",
   "metadata": {},
   "outputs": [
    {
     "name": "stderr",
     "output_type": "stream",
     "text": [
      "C:\\Users\\raflg\\AppData\\Local\\Temp\\ipykernel_15164\\2575008809.py:5: RuntimeWarning: All-NaN slice encountered\n",
      "  subset_median = np.nanmedian(subset)\n"
     ]
    }
   ],
   "source": [
    "nmf_data['RSI_mad'] = nmf_data.groupby('Name')['RSI'].transform(expanding_mad)\n",
    "nmf_data['Relative Power_mad'] = nmf_data.groupby('Name')['Relative Power'].transform(expanding_mad)"
   ]
  },
  {
   "cell_type": "code",
   "execution_count": 7,
   "id": "57fda11e",
   "metadata": {},
   "outputs": [],
   "source": [
    "nmf_data['RSI_exp_median'] = nmf_data.groupby('Name')['RSI'].transform(lambda x: x.expanding().median())\n",
    "nmf_data['Relative Power_exp_median'] = nmf_data.groupby('Name')['Relative Power'].transform(lambda x: x.dropna().expanding().median())"
   ]
  },
  {
   "cell_type": "code",
   "execution_count": 8,
   "id": "19552467",
   "metadata": {},
   "outputs": [],
   "source": [
    "nmf_data['RSI_CV'] = round(nmf_data['RSI_mad'] / nmf_data['RSI_exp_median'] *100, 1)\n",
    "nmf_data['Relative Power_CV'] = round(nmf_data['Relative Power_mad'] / nmf_data['Relative Power_exp_median'] *100, 1)"
   ]
  },
  {
   "cell_type": "markdown",
   "id": "f863e7f4",
   "metadata": {},
   "source": [
    "## 3. Codes couleur"
   ]
  },
  {
   "cell_type": "code",
   "execution_count": 9,
   "id": "898d2a3e",
   "metadata": {},
   "outputs": [],
   "source": [
    "nmf_data.loc[nmf_data['RSI'] <= (nmf_data['RSI_exp_median'] - nmf_data['RSI_mad']), 'RSI_color'] = '#ffc09f' #orange\n",
    "nmf_data.loc[(nmf_data['RSI'] > (nmf_data['RSI_exp_median'] - nmf_data['RSI_mad']))\n",
    "             & (nmf_data['RSI'] < (nmf_data['RSI_exp_median'] + nmf_data['RSI_mad'])), 'RSI_color'] = '#a0ced9' #bleu\n",
    "nmf_data.loc[nmf_data['RSI'] >= (nmf_data['RSI_exp_median'] + nmf_data['RSI_mad']), 'RSI_color'] = '#adf7b6' #vert\n",
    "\n",
    "nmf_data.loc[nmf_data['Relative Power'] <= (nmf_data['Relative Power_exp_median'] - nmf_data['Relative Power_mad']), 'Relative Power_color'] = '#ffc09f' #orange\n",
    "nmf_data.loc[(nmf_data['Relative Power'] > (nmf_data['Relative Power_exp_median'] - nmf_data['Relative Power_mad']))\n",
    "             & (nmf_data['Relative Power'] < (nmf_data['Relative Power_exp_median'] + nmf_data['Relative Power_mad'])), 'Relative Power_color'] = '#a0ced9' #bleu\n",
    "nmf_data.loc[nmf_data['Relative Power'] >= (nmf_data['Relative Power_exp_median'] + nmf_data['Relative Power_mad']), 'Relative Power_color'] = '#adf7b6' #vert"
   ]
  }
 ],
 "metadata": {
  "hide_input": false,
  "kernelspec": {
   "display_name": "Python 3",
   "language": "python",
   "name": "python3"
  },
  "language_info": {
   "codemirror_mode": {
    "name": "ipython",
    "version": 3
   },
   "file_extension": ".py",
   "mimetype": "text/x-python",
   "name": "python",
   "nbconvert_exporter": "python",
   "pygments_lexer": "ipython3",
   "version": "3.9.13"
  }
 },
 "nbformat": 4,
 "nbformat_minor": 5
}
